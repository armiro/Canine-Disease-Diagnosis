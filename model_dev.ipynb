{
  "nbformat": 4,
  "nbformat_minor": 0,
  "metadata": {
    "colab": {
      "name": "model_dev.ipynb",
      "provenance": [],
      "authorship_tag": "ABX9TyMBN/IiThoyhk59P5EbvirI",
      "include_colab_link": true
    },
    "kernelspec": {
      "name": "python3",
      "display_name": "Python 3"
    },
    "language_info": {
      "name": "python"
    }
  },
  "cells": [
    {
      "cell_type": "markdown",
      "metadata": {
        "id": "view-in-github",
        "colab_type": "text"
      },
      "source": [
        "<a href=\"https://colab.research.google.com/github/armiro/canine-disease-diagnosis/blob/main/model_dev.ipynb\" target=\"_parent\"><img src=\"https://colab.research.google.com/assets/colab-badge.svg\" alt=\"Open In Colab\"/></a>"
      ]
    },
    {
      "cell_type": "code",
      "metadata": {
        "id": "7RFN3FrGF8Hn"
      },
      "source": [
        "import pandas as pd\n",
        "import numpy as np\n",
        "import matplotlib.pyplot as plt\n",
        "import seaborn as sns\n",
        "\n",
        "from sklearn.preprocessing import OneHotEncoder, StandardScaler\n",
        "from sklearn.model_selection import train_test_split\n",
        "from sklearn import svm"
      ],
      "execution_count": 1,
      "outputs": []
    },
    {
      "cell_type": "code",
      "metadata": {
        "id": "HEygnRKHmyIU"
      },
      "source": [
        "path = \"/content/normalized_dataset.csv\"\n",
        "dataset = pd.read_csv(path)\n",
        "\n",
        "features = dataset.iloc[:, :30].values\n",
        "labels = dataset.iloc[:, 30:]"
      ],
      "execution_count": 2,
      "outputs": []
    },
    {
      "cell_type": "code",
      "metadata": {
        "colab": {
          "base_uri": "https://localhost:8080/",
          "height": 374
        },
        "id": "YOy_VYryP6W2",
        "outputId": "2d4cb2c5-de14-4ab9-cb90-01d73ed472ea"
      },
      "source": [
        "# one last prep step for labels: we have too many (214) labels which could be shrunken\n",
        "# to much smaller number of labels. we have to let go of labels with few occurances\n",
        "label_freqs_list = list()\n",
        "label_names = list()\n",
        "for label, column in labels.iteritems():\n",
        "    label_names.append(label)\n",
        "    label_freqs_list.append(np.sum(column))\n",
        "\n",
        "fig = plt.figure(figsize=(12, 6))\n",
        "sns.histplot(data=label_freqs_list, discrete=True, binrange=(0, 20)) # hist for least frequent\n",
        "plt.show()\n",
        "# which threshold? we can omit labels with freq < 5 (we can change later to see differences)"
      ],
      "execution_count": 3,
      "outputs": [
        {
          "output_type": "display_data",
          "data": {
            "image/png": "[encoded data removed]",
            "text/plain": [
              "<Figure size 864x432 with 1 Axes>"
            ]
          },
          "metadata": {
            "tags": [],
            "needs_background": "light"
          }
        }
      ]
    },
    {
      "cell_type": "code",
      "metadata": {
        "colab": {
          "base_uri": "https://localhost:8080/"
        },
        "id": "I3IaUpELaPYJ",
        "outputId": "5b6cca64-40f3-4045-b4f9-7e71d996cc73"
      },
      "source": [
        "drop_list = list()\n",
        "for label, column in labels.iteritems():\n",
        "    if np.sum(column) < 5:\n",
        "        drop_list.append(label)\n",
        "\n",
        "labels = labels.drop(columns=drop_list).values\n",
        "print('number of labels is reduced from %d to %d' % (len(label_names), len(labels[0])))"
      ],
      "execution_count": 4,
      "outputs": [
        {
          "output_type": "stream",
          "text": [
            "number of labels is reduced from 214 to 56\n"
          ],
          "name": "stdout"
        }
      ]
    },
    {
      "cell_type": "code",
      "metadata": {
        "id": "E-GS2cWgAiV2"
      },
      "source": [
        "onehot_encoder_1 = OneHotEncoder(categories='auto', drop='first', sparse=False)\n",
        "encoded_mat_1 = onehot_encoder_1.fit_transform(X=features[:, 0].reshape(-1, 1))\n",
        "\n",
        "onehot_encoder_2 = OneHotEncoder(categories='auto', drop='first', sparse=False)\n",
        "encoded_mat_2 = onehot_encoder_2.fit_transform(X=features[:, 2].reshape(-1, 1))\n",
        "\n",
        "features = np.concatenate((encoded_mat_1, features[:, 1].reshape(-1, 1), \n",
        "                               encoded_mat_2, features[:, 3:]), axis=1)"
      ],
      "execution_count": 5,
      "outputs": []
    },
    {
      "cell_type": "code",
      "metadata": {
        "id": "WlwiUrJWPY1F"
      },
      "source": [
        "features[:, 7] = features[:, 7] / np.max(features[:, 7])\n",
        "\n",
        "# split the dataset into training-set and test-set\n",
        "X_train, X_test, y_train, y_test = train_test_split(features, labels, test_size=0.3, random_state=17)"
      ],
      "execution_count": 6,
      "outputs": []
    },
    {
      "cell_type": "code",
      "metadata": {
        "colab": {
          "base_uri": "https://localhost:8080/"
        },
        "id": "0a2xoNiBOtdv",
        "outputId": "345ea072-be7b-42c3-f84a-e6bf060a598b"
      },
      "source": [
        "# np.max(X_train)"
      ],
      "execution_count": 9,
      "outputs": [
        {
          "output_type": "execute_result",
          "data": {
            "text/plain": [
              "11.2721519"
            ]
          },
          "metadata": {
            "tags": []
          },
          "execution_count": 9
        }
      ]
    },
    {
      "cell_type": "code",
      "metadata": {
        "id": "FzVtNvlec76y"
      },
      "source": [
        "from sklearn.neural_network import MLPClassifier\n",
        "\n",
        "# class weights?\n",
        "classifier = MLPClassifier(hidden_layer_sizes=(100,), activation='relu', solver='adam',\n",
        "                           max_iter=500, verbose=1)"
      ],
      "execution_count": 11,
      "outputs": []
    },
    {
      "cell_type": "code",
      "metadata": {
        "id": "H0YBANG1fHkI"
      },
      "source": [
        "classifier.fit(X=X_train, y=y_train)"
      ],
      "execution_count": null,
      "outputs": []
    },
    {
      "cell_type": "code",
      "metadata": {
        "colab": {
          "base_uri": "https://localhost:8080/",
          "height": 265
        },
        "id": "YeTNOrZAidEX",
        "outputId": "eb767c97-aaf4-4fe5-82e5-94caad46e549"
      },
      "source": [
        "plt.plot(classifier.loss_curve_)\n",
        "plt.show()"
      ],
      "execution_count": 13,
      "outputs": [
        {
          "output_type": "display_data",
          "data": {
            "image/png": "[encoded data removed]",
            "text/plain": [
              "<Figure size 432x288 with 1 Axes>"
            ]
          },
          "metadata": {
            "tags": [],
            "needs_background": "light"
          }
        }
      ]
    },
    {
      "cell_type": "code",
      "metadata": {
        "colab": {
          "base_uri": "https://localhost:8080/"
        },
        "id": "YnOWKNMhiqIH",
        "outputId": "1d64a704-3e9b-48fd-b930-f93352653c6a"
      },
      "source": [
        "idx = np.random.randint(0, len(X_train))\n",
        "print(idx)\n",
        "print(classifier.predict(X=np.expand_dims(X_train[idx], axis=0)))\n",
        "print(y_train[idx])"
      ],
      "execution_count": 31,
      "outputs": [
        {
          "output_type": "stream",
          "text": [
            "436\n",
            "[[0 0 0 0 0 0 0 0 0 0 0 0 0 0 0 0 0 0 0 0 0 0 0 0 0 0 0 0 0 0 0 0 0 0 0 0\n",
            "  0 0 0 0 0 0 0 0 0 0 0 0 0 0 0 0 0 0 0 0]]\n",
            "[0 0 0 0 0 0 0 0 0 0 0 0 0 0 0 0 0 0 0 0 0 0 0 0 0 0 0 0 0 0 0 0 0 0 0 0 0\n",
            " 0 0 0 0 0 0 0 0 0 0 0 0 0 0 0 0 0 0 0]\n"
          ],
          "name": "stdout"
        }
      ]
    }
  ]
}